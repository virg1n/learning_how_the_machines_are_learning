{
 "cells": [
  {
   "cell_type": "code",
   "execution_count": 87,
   "id": "adc9757b-d90a-4ca3-ac3e-31d308f68b97",
   "metadata": {},
   "outputs": [],
   "source": [
    "import torch\n",
    "import matplotlib.pyplot as plt\n",
    "import numpy as np\n",
    "import torch.nn as nn\n",
    "import torch.nn.functional as F\n",
    "import random\n",
    "import math\n",
    "import tiktoken"
   ]
  },
  {
   "cell_type": "code",
   "execution_count": 88,
   "id": "bfdfbb9a-8ace-477b-af6b-21be8903dae4",
   "metadata": {},
   "outputs": [
    {
     "name": "stdout",
     "output_type": "stream",
     "text": [
      "cuda\n"
     ]
    },
    {
     "data": {
      "text/plain": [
       "<torch._C.Generator at 0x1c23ae87530>"
      ]
     },
     "execution_count": 88,
     "metadata": {},
     "output_type": "execute_result"
    }
   ],
   "source": [
    "vocab_size = 50257\n",
    "batch_size = 4\n",
    "context_len = 1024\n",
    "emb_neur = 768\n",
    "epochs = 50\n",
    "num_blocks = 12\n",
    "num_heads = 12\n",
    "dropout_neur = 0.2\n",
    "lr = 3e-4\n",
    "\n",
    "enc = tiktoken.get_encoding(\"gpt2\")\n",
    "\n",
    "device = 'cuda' if torch.cuda.is_available() else 'cpu'\n",
    "print(device)\n",
    "torch.manual_seed(1337)"
   ]
  },
  {
   "cell_type": "code",
   "execution_count": 89,
   "id": "8c7aa4be-a0d2-49bc-a705-24b06aeae8b8",
   "metadata": {},
   "outputs": [],
   "source": [
    "class DataLoader():\n",
    "    def __init__(self, B, T):\n",
    "        self.B = B\n",
    "        self.T = T\n",
    "        \n",
    "        with open('input.txt', 'r') as f:\n",
    "            text = f.read()\n",
    "        text = enc.encode(text)\n",
    "        self.tokens = torch.tensor(text)\n",
    "        \n",
    "        self.current_step = 1\n",
    "\n",
    "        print(f\"loaded {len(text)} tokens\")\n",
    "\n",
    "    def next_batch(self):\n",
    "        B, T = self.B, self.T\n",
    "        \n",
    "        self.current_step += 1\n",
    "        tokens = self.tokens[(self.current_step-1)*B*T:self.current_step*B*T+1]\n",
    "        x = (tokens[:-1]).view(B, T)\n",
    "        y = (tokens[1:]).view(B, T)\n",
    "        if (self.current_step+1)*B*T+1 > len(self.tokens):\n",
    "            self.current_step = 1\n",
    "        return x, y"
   ]
  },
  {
   "cell_type": "code",
   "execution_count": 92,
   "id": "23426d49-2a88-4082-90d8-c93a07006b9f",
   "metadata": {},
   "outputs": [],
   "source": [
    "class SelfAttention(nn.Module):\n",
    "    def __init__(self, num_heads):\n",
    "        super().__init__()\n",
    "        self.qkv = nn.Linear(emb_neur, 3 * emb_neur)\n",
    "        self.proj = nn.Linear(emb_neur, emb_neur)\n",
    "        self.proj.COMES_TO_RESIDUAL = 1\n",
    "        # self.dropout = nn.Dropout(dropout_neur)\n",
    "\n",
    "    def forward(self, idx):\n",
    "        assert emb_neur % num_heads == 0, \"Embedding dimension must be divisible by number of heads\"\n",
    "\n",
    "        B, T, C = idx.shape\n",
    "        qkv = self.qkv(idx)\n",
    "        q, k, v = qkv.split(emb_neur, dim=2)\n",
    "        q = q.view(B, T, num_heads, C//num_heads).transpose(1, 2) # B, nh, T, hs\n",
    "        k = k.view(B, T, num_heads, C//num_heads).transpose(1, 2) # B, nh, T, hs\n",
    "        v = v.view(B, T, num_heads, C//num_heads).transpose(1, 2) # B, nh, T, hs\n",
    "\n",
    "        attention = q @ k.transpose(-2, -1) * (1.0 / math.sqrt(k.shape[-1]))\n",
    "        attention = torch.tril(attention[:, :, :T, :T])\n",
    "        # mask = torch.tril(torch.ones((T, T), device=idx.device)).view(1, 1, T, T)  # (1, 1, T, T)\n",
    "        # attention = attention.masked_fill(mask == 0, float(\"-inf\"))  # (B, nh, T, T)\n",
    "        attention = attention.masked_fill(attention == 0, float(\"-inf\"))\n",
    "        attention = F.softmax(attention, dim=-1)\n",
    "\n",
    "        out = attention @ v # B, nh, T, hs \n",
    "        out = out.transpose(2, 1).contiguous().view(B, T, C)\n",
    "        out = self.proj(out)\n",
    "        # out = self.dropout(out)\n",
    "\n",
    "        return out\n",
    "        \n",
    "\n",
    "\n",
    "class FeedForward(nn.Module):\n",
    "    def __init__(self):\n",
    "        super().__init__()\n",
    "        # self.net = nn.Sequential(\n",
    "        #     nn.Linear(emb_neur, 4 * emb_neur),\n",
    "        #     nn.GELU(),\n",
    "        #     nn.Linear(4 * emb_neur, emb_neur),\n",
    "        #     nn.Dropout(dropout_neur),\n",
    "        # )\n",
    "        self.upl = nn.Linear(emb_neur, 4 * emb_neur)\n",
    "        self.gelu = nn.GELU()\n",
    "        self.dwnl = nn.Linear(4 * emb_neur, emb_neur)\n",
    "        self.dwnl.COMES_TO_RESIDUAL = 1\n",
    "\n",
    "    def forward(self, idx):\n",
    "        idx = self.upl(idx)\n",
    "        idx = self.gelu(idx)\n",
    "        idx = self.dwnl(idx)\n",
    "        return idx\n",
    "        # return self.net(idx)\n",
    "\n",
    "\n",
    "class Block(nn.Module):\n",
    "    def __init__(self, num_heads):\n",
    "        super().__init__()\n",
    "        self.attentions = SelfAttention(num_heads)\n",
    "        self.ffn = FeedForward()\n",
    "        self.ln1 = nn.LayerNorm(emb_neur)\n",
    "        self.ln2 = nn.LayerNorm(emb_neur)\n",
    "\n",
    "    def forward(self, idx):\n",
    "        idx = idx + self.attentions(self.ln1(idx))\n",
    "        idx = idx + self.ffn(self.ln2(idx))\n",
    "        return idx\n",
    "\n",
    "        \n",
    "class GPT(nn.Module):\n",
    "    def __init__(self):\n",
    "        super().__init__()\n",
    "        self.tokens_embedding = nn.Embedding(vocab_size, emb_neur)\n",
    "        self.position_embedding = nn.Embedding(context_len, emb_neur)\n",
    "        self.blocks = nn.Sequential( *[Block(num_heads) for _ in range(num_blocks)])\n",
    "        self.ln = nn.LayerNorm(emb_neur)\n",
    "        self.ll_head = nn.Linear(emb_neur, vocab_size)\n",
    "\n",
    "        self.tokens_embedding.weight = self.ll_head.weight\n",
    "\n",
    "        self.apply(self._init_weights)\n",
    "        \n",
    "    def _init_weights(self, module):\n",
    "        std = (1.0 / math.sqrt(emb_neur))\n",
    "        if isinstance(module, nn.Linear):\n",
    "            if hasattr(module, \"COMES_TO_RESIDUAL\"):\n",
    "                std *= (1.0)/(math.sqrt(2*num_blocks))\n",
    "            torch.nn.init.normal_(module.weight, mean=0.0, std=std)\n",
    "            if module.bias is not None:\n",
    "                torch.nn.init.zeros_(module.bias)\n",
    "        elif isinstance(module, nn.Embedding):\n",
    "            torch.nn.init.normal_(module.weight, mean=0.0, std=(1.0 / math.sqrt(emb_neur)))\n",
    "\n",
    "    def forward(self, idx, targets=None):\n",
    "        B, T = idx.shape\n",
    "        \n",
    "        embedded_tokens = self.tokens_embedding(idx) # B, T, emb_neur\n",
    "        embedded_position = self.position_embedding(torch.arange(T, device=device)) # T, emb_neur\n",
    "        \n",
    "        idx = embedded_tokens + embedded_position # B, T, emb_neur\n",
    "        idx = self.blocks(idx)\n",
    "        idx = self.ln(idx)\n",
    "        logits = self.ll_head(idx)\n",
    "        \n",
    "        \n",
    "        if targets is None:\n",
    "            loss = None\n",
    "        else:\n",
    "            B, T, C = logits.shape\n",
    "            logits = logits.view(B*T, C)\n",
    "            targets = targets.view(B*T)\n",
    "            loss = F.cross_entropy(logits, targets)\n",
    "        return logits, loss\n",
    "\n",
    "    def generate(self, idx, max_tokens):\n",
    "        for _ in range(max_tokens):\n",
    "            logits, _ = self.forward(idx)\n",
    "            logits = logits[:, -1, :]\n",
    "            probs = F.softmax(logits, dim=-1)\n",
    "            next_token = torch.multinomial(probs, num_samples=1)\n",
    "            idx = torch.cat((idx, next_token), dim=1)\n",
    "        return idx"
   ]
  },
  {
   "cell_type": "code",
   "execution_count": 93,
   "id": "f12ce39f-92fb-4cb9-b8f3-ff8b24600422",
   "metadata": {},
   "outputs": [
    {
     "name": "stdout",
     "output_type": "stream",
     "text": [
      "124.490065 M parameters\n",
      "loaded 338025 tokens\n"
     ]
    }
   ],
   "source": [
    "m = GPT()\n",
    "m = m.to(device)\n",
    "print(sum(p.numel() for p in m.parameters())/1e6, 'M parameters')\n",
    "\n",
    "data_loader = DataLoader(4, 32)\n",
    "optmizer = torch.optim.Adam(m.parameters(), lr=lr)"
   ]
  },
  {
   "cell_type": "code",
   "execution_count": 96,
   "id": "67f0d7e9-84da-4821-9d0b-14f83fe32497",
   "metadata": {},
   "outputs": [],
   "source": [
    "for epoch in range(50):\n",
    "    x, y = data_loader.next_batch()\n",
    "    x, y = x.to(device), y.to(device)\n",
    "    \n",
    "    logits, loss = m(x, y)\n",
    "    \n",
    "    optmizer.zero_grad()\n",
    "    loss.backward()\n",
    "    optmizer.step()\n",
    "    "
   ]
  },
  {
   "cell_type": "code",
   "execution_count": 78,
   "id": "391ab288-4747-4dc3-8c23-98c67358f9bd",
   "metadata": {},
   "outputs": [
    {
     "data": {
      "text/plain": [
       "'Hello good. words\\n.: unlimited sinister, forth heavily for howicted flares;arrell but e him but evenull absorption: Stop:,IA,coins,aid SomFromFirst mecomponentOur not, nickname assistantsBR:blown your,\\n\\n'"
      ]
     },
     "execution_count": 78,
     "metadata": {},
     "output_type": "execute_result"
    }
   ],
   "source": [
    "enc.decode(m.generate(torch.tensor(enc.encode(\"Hello\")).to(device).view(1, -1), 50)[0].tolist())"
   ]
  },
  {
   "cell_type": "code",
   "execution_count": 97,
   "id": "ea131de0-5423-4ccd-86d2-d98b0bb20f8d",
   "metadata": {},
   "outputs": [
    {
     "data": {
      "text/plain": [
       "tensor(6.3758, device='cuda:0', grad_fn=<NllLossBackward0>)"
      ]
     },
     "execution_count": 97,
     "metadata": {},
     "output_type": "execute_result"
    }
   ],
   "source": [
    "loss"
   ]
  },
  {
   "cell_type": "code",
   "execution_count": null,
   "id": "851eb907-03e0-4e8c-aea0-aeaea5c9b5c8",
   "metadata": {},
   "outputs": [],
   "source": []
  }
 ],
 "metadata": {
  "kernelspec": {
   "display_name": "Python 3 (ipykernel)",
   "language": "python",
   "name": "python3"
  },
  "language_info": {
   "codemirror_mode": {
    "name": "ipython",
    "version": 3
   },
   "file_extension": ".py",
   "mimetype": "text/x-python",
   "name": "python",
   "nbconvert_exporter": "python",
   "pygments_lexer": "ipython3",
   "version": "3.10.11"
  }
 },
 "nbformat": 4,
 "nbformat_minor": 5
}
