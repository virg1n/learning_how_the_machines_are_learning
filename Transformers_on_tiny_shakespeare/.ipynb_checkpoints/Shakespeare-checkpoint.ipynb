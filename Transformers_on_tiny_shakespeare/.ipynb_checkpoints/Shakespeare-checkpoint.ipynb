{
 "cells": [
  {
   "cell_type": "code",
   "execution_count": 41,
   "id": "a380dbaf-4ee3-43f6-9f96-25e70685bbc0",
   "metadata": {},
   "outputs": [],
   "source": [
    "import torch\n",
    "import matplotlib.pyplot as plt\n",
    "import numpy as np\n",
    "import torch.nn as nn\n",
    "import torch.nn.functional as F\n",
    "import random"
   ]
  },
  {
   "cell_type": "code",
   "execution_count": 42,
   "id": "57f84dac-eabb-4c81-ad0d-b5677365aa84",
   "metadata": {},
   "outputs": [],
   "source": [
    "inp_text = str(open('input.txt').read())\n",
    "chars = {}\n",
    "set_chars = set()\n",
    "for i in inp_text:\n",
    "    for j in str(i):\n",
    "        set_chars.add(j)\n",
    "for i, letter in enumerate(sorted(list(set_chars))):\n",
    "    chars[letter] = i"
   ]
  },
  {
   "cell_type": "code",
   "execution_count": 43,
   "id": "76869a25-2acb-4b14-8b79-38dd2dd12b00",
   "metadata": {},
   "outputs": [
    {
     "name": "stdout",
     "output_type": "stream",
     "text": [
      "cuda\n"
     ]
    }
   ],
   "source": [
    "keys_chars = list(chars.keys())\n",
    "vocab_size = len(keys_chars)\n",
    "batch_size = 64\n",
    "context_len = 256\n",
    "emb_neur = 384\n",
    "block_size = 256\n",
    "epochs = 5000\n",
    "num_blocks = 6\n",
    "number_of_heads = 6\n",
    "dropout_neur = 0.2\n",
    "lr = 3e-4\n",
    "\n",
    "# batch_size = 4\n",
    "# context_len = 8\n",
    "# emb_neur = 64\n",
    "# epochs = 5000\n",
    "# num_blocks = 4\n",
    "# number_of_heads = 4\n",
    "# dropout_neur = 0.2\n",
    "# lr = 3e-4\n",
    "\n",
    "device = 'cuda' if torch.cuda.is_available() else 'cpu'\n",
    "print(device)"
   ]
  },
  {
   "cell_type": "code",
   "execution_count": 44,
   "id": "aedf4a46-b74b-4c6c-95ce-3f66b4c903f9",
   "metadata": {},
   "outputs": [],
   "source": [
    "def encode(inp):\n",
    "    ans = []\n",
    "    for i in inp:\n",
    "        ans.append(chars[i])\n",
    "    return ans\n",
    "\n",
    "def decode(inp):\n",
    "    ans = \"\"\n",
    "    for i in inp:\n",
    "        ans+=str(keys_chars[i])\n",
    "    return ans\n",
    "inp_text = torch.tensor(encode(inp_text), dtype=torch.long)"
   ]
  },
  {
   "cell_type": "code",
   "execution_count": 45,
   "id": "d13afee2-a555-4206-a971-8fdfa940c8e8",
   "metadata": {},
   "outputs": [],
   "source": [
    "n1 = int(0.9 * len(inp_text))\n",
    "train_data = inp_text[:n1]\n",
    "val_data = inp_text[n1:]\n"
   ]
  },
  {
   "cell_type": "code",
   "execution_count": 46,
   "id": "59c5ede8-3f2b-4bb7-b8c5-16a03b3775be",
   "metadata": {},
   "outputs": [],
   "source": [
    "def get_batch(data):\n",
    "    ixs = torch.randint(0, len(data)-context_len-1, (batch_size,))\n",
    "    x_batches = torch.stack([data[i:i+context_len] for i in ixs])\n",
    "    ys = torch.stack([data[i+1:i+context_len+1] for i in ixs])\n",
    "    x_batches, ys = x_batches.to(device), ys.to(device)\n",
    "    return x_batches, ys\n"
   ]
  },
  {
   "cell_type": "code",
   "execution_count": 47,
   "id": "2ff4aeea-425f-4246-acbd-e35d7eda4a79",
   "metadata": {},
   "outputs": [],
   "source": [
    "@torch.no_grad()\n",
    "def calculate_loss(data):\n",
    "    losses = []\n",
    "    m.eval()\n",
    "    for _ in range(1000):\n",
    "        xs, ys = get_batch(data)\n",
    "        logits, loss = m(xs, ys)\n",
    "        losses.append(loss.item())\n",
    "    losses = torch.tensor(losses)\n",
    "    m.train()\n",
    "    return losses.mean()"
   ]
  },
  {
   "cell_type": "code",
   "execution_count": 48,
   "id": "2f74fac7-234a-4bca-b2de-b97abb623b07",
   "metadata": {},
   "outputs": [],
   "source": [
    "torch.manual_seed(1337)\n",
    "\n",
    "class Head(nn.Module):\n",
    "    def __init__(self, head_size):\n",
    "        super().__init__()\n",
    "        self.key = nn.Linear(emb_neur, head_size, bias=False)\n",
    "        self.query = nn.Linear(emb_neur, head_size, bias=False)\n",
    "        self.value = nn.Linear(emb_neur, head_size, bias=False)\n",
    "\n",
    "    def forward(self, xs):\n",
    "        B, T, C = xs.shape\n",
    "        k = self.key(xs)\n",
    "        q = self.query(xs)\n",
    "        v = self.value(xs)\n",
    "\n",
    "        xs = k @ q.transpose(-2, -1) * k.shape[-1]**-0.5\n",
    "        xs = torch.tril(xs)\n",
    "        xs = xs.masked_fill(xs == 0, float(\"-inf\"))\n",
    "        xs = F.softmax(xs, dim=-1)\n",
    "        \n",
    "        out = xs @ v\n",
    "        return out\n",
    "\n",
    "class MultiHead(nn.Module):\n",
    "    def __init__(self, num_heads, head_size):\n",
    "        super().__init__()\n",
    "        self.heads = nn.ModuleList([Head(head_size) for _ in range(num_heads)])\n",
    "        self.proj = nn.Linear(emb_neur, emb_neur)\n",
    "        self.dropout = nn.Dropout(dropout_neur)\n",
    "\n",
    "    def forward(self, xs):\n",
    "        xs = torch.cat([head(xs) for head in self.heads], dim=-1)\n",
    "        return self.dropout(self.proj(xs))\n",
    "\n",
    "class FeedForward(nn.Module):\n",
    "    def __init__(self):\n",
    "        super().__init__()\n",
    "        self.net = nn.Sequential(\n",
    "            nn.Linear(emb_neur, 4 * emb_neur),\n",
    "            nn.ReLU(),\n",
    "            nn.Linear(4 * emb_neur, emb_neur),\n",
    "            nn.Dropout(dropout_neur),\n",
    "        )\n",
    "\n",
    "    def forward(self, xs):\n",
    "        return self.net(xs)\n",
    "        \n",
    "\n",
    "class Block(nn.Module):\n",
    "    def __init__(self, num_heads, head_size):\n",
    "        super().__init__()\n",
    "        self.multi_heads = MultiHead(num_heads, head_size)\n",
    "        self.ff = FeedForward()\n",
    "        self.ln1 = nn.LayerNorm(emb_neur)\n",
    "        self.ln2 = nn.LayerNorm(emb_neur)\n",
    "\n",
    "    def forward(self, xs):\n",
    "        xs = xs + self.multi_heads(self.ln1(xs))\n",
    "        xs = xs + self.ff(self.ln2(xs))\n",
    "        return xs\n",
    "        \n",
    "\n",
    "class BigramLanguageModel(nn.Module):\n",
    "    def __init__(self):\n",
    "        super().__init__()\n",
    "        self.tokens_embedding = nn.Embedding(vocab_size, emb_neur)\n",
    "        self.position_embedding = nn.Embedding(context_len, emb_neur)\n",
    "        # self.sa_head = Head(emb_neur)\n",
    "        # self.multi_head = MultiHead(number_of_heads, emb_neur//number_of_heads)\n",
    "        self.blocks = nn.Sequential( *[Block(number_of_heads, emb_neur//number_of_heads) for _ in range(num_blocks)])\n",
    "        self.ln = nn.LayerNorm(emb_neur)\n",
    "        self.ll_head = nn.Linear(emb_neur, vocab_size)\n",
    "\n",
    "    def forward(self, xs_inputs, targets=None):\n",
    "        B, T = xs_inputs.shape\n",
    "        \n",
    "        embedded_tokens = self.tokens_embedding(xs_inputs) # B, T, emb_neur\n",
    "        embedded_position = self.position_embedding(torch.arange(T, device=device)) # T, emb_neur\n",
    "        \n",
    "        xs_inputs = embedded_tokens + embedded_position # B, T, emb_neur\n",
    "        xs_inputs = self.blocks(xs_inputs)\n",
    "        xs_inputs = self.ln(xs_inputs)\n",
    "        logits = self.ll_head(xs_inputs)\n",
    "        \n",
    "        \n",
    "        if targets is None:\n",
    "            loss = None\n",
    "        else:\n",
    "            B, T, C = logits.shape\n",
    "            logits = logits.view(B*T, C)\n",
    "            targets = targets.view(B*T)\n",
    "            loss = F.cross_entropy(logits, targets)\n",
    "        return logits, loss\n",
    "\n",
    "    def generate(self, xs_inputs, max_tokens):\n",
    "        for _ in range(max_tokens):\n",
    "            xs_cond = xs_inputs[:, -context_len:]\n",
    "            logits, loss = self(xs_cond)\n",
    "            logits = logits[:, -1, :]\n",
    "            probs = F.softmax(logits, dim=-1)\n",
    "            next_letter = torch.multinomial(probs, num_samples=1)\n",
    "            xs_inputs = torch.cat((xs_inputs, next_letter), dim=1)\n",
    "        return xs_inputs\n",
    "        \n"
   ]
  },
  {
   "cell_type": "code",
   "execution_count": 49,
   "id": "c6ec194a-03ba-4274-a3cd-986396b61837",
   "metadata": {},
   "outputs": [
    {
     "name": "stdout",
     "output_type": "stream",
     "text": [
      "10.788929 M parameters\n"
     ]
    }
   ],
   "source": [
    "m = BigramLanguageModel()\n",
    "m = m.to(device)\n",
    "print(sum(p.numel() for p in m.parameters())/1e6, 'M parameters')\n",
    "optmizer = torch.optim.Adam(m.parameters(), lr=lr)"
   ]
  },
  {
   "cell_type": "code",
   "execution_count": 50,
   "id": "620b6bda-8918-402f-aa4e-eef121298af1",
   "metadata": {},
   "outputs": [
    {
     "name": "stdout",
     "output_type": "stream",
     "text": [
      "0 / 5000 loss: tensor(3.5523)\n",
      "2000 / 5000 loss: tensor(1.5433)\n",
      "4000 / 5000 loss: tensor(1.5360)\n"
     ]
    }
   ],
   "source": [
    "for epoch in range(epochs):\n",
    "    xs, ys = get_batch(train_data)\n",
    "    logits, loss = m(xs, ys)\n",
    "    optmizer.zero_grad(set_to_none=True)\n",
    "    loss.backward()\n",
    "    optmizer.step()\n",
    "    if epoch % 2000 == 0:\n",
    "        print(epoch, '/', epochs, \"loss:\", calculate_loss(val_data))"
   ]
  },
  {
   "cell_type": "code",
   "execution_count": 54,
   "id": "17513184-1385-4412-aafc-d8184d5dca4f",
   "metadata": {},
   "outputs": [
    {
     "data": {
      "text/plain": [
       "tensor(1.5711)"
      ]
     },
     "execution_count": 54,
     "metadata": {},
     "output_type": "execute_result"
    }
   ],
   "source": [
    "calculate_loss(val_data)"
   ]
  },
  {
   "cell_type": "code",
   "execution_count": 52,
   "id": "9048e434-b3db-491e-ab5b-127045ed0dd5",
   "metadata": {},
   "outputs": [
    {
     "name": "stdout",
     "output_type": "stream",
     "text": [
      "\n",
      "Come, but Margaret!\n",
      "\n",
      "CAMILLO:\n",
      "How mildly! where, Hi!\n",
      "\n",
      "POLIXENES:\n",
      "Mark, sweet man!\n",
      "Part an old Isabout have tableness!\n",
      "Enougle him, to set the power of death!\n",
      "Who deep authority, butch'd by great pretty!\n",
      "Come, cousin perheal; measures our toasy.\n",
      "Busines, thou surest. See, feel when your tensible, are\n",
      "grace waxt manner of the morning, in the wholes\n",
      "greet strumpetry, envy on Albion, breat both welch-ruin; peever,\n",
      "though some varlet, wast we both you,\n",
      "Pour queen, of the ugleets and full of greet.\n",
      "\n",
      "L\n"
     ]
    }
   ],
   "source": [
    "print(decode(m.generate(torch.zeros(1, 1, dtype=torch.int32, device=device), 500)[0].tolist()))"
   ]
  },
  {
   "cell_type": "code",
   "execution_count": 53,
   "id": "6b40e814-c29d-417f-83d9-dafe83dea834",
   "metadata": {},
   "outputs": [],
   "source": [
    "torch.save(m, 'model.pth')"
   ]
  },
  {
   "cell_type": "code",
   "execution_count": null,
   "id": "1cd56c14-b2a9-460e-aefb-abf0c7b93930",
   "metadata": {},
   "outputs": [],
   "source": []
  }
 ],
 "metadata": {
  "kernelspec": {
   "display_name": "Python 3 (ipykernel)",
   "language": "python",
   "name": "python3"
  },
  "language_info": {
   "codemirror_mode": {
    "name": "ipython",
    "version": 3
   },
   "file_extension": ".py",
   "mimetype": "text/x-python",
   "name": "python",
   "nbconvert_exporter": "python",
   "pygments_lexer": "ipython3",
   "version": "3.11.9"
  },
  "scenes_data": {
   "active_scene": "Default Scene",
   "init_scene": "",
   "scenes": [
    "Default Scene"
   ]
  }
 },
 "nbformat": 4,
 "nbformat_minor": 5
}
