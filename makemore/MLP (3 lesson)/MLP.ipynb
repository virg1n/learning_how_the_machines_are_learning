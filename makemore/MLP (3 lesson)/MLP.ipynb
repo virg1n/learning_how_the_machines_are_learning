{
 "cells": [
  {
   "cell_type": "code",
   "execution_count": 3,
   "id": "a63aaadc-2e8c-40ed-b4a9-9aa91523f277",
   "metadata": {},
   "outputs": [],
   "source": [
    "import torch\n",
    "import matplotlib.pyplot as plt\n",
    "import numpy as np\n",
    "import torch.nn.functional as F\n",
    "import random"
   ]
  },
  {
   "cell_type": "code",
   "execution_count": 4,
   "id": "b3bc5c5c-9bde-46de-b3b9-893f768de00e",
   "metadata": {},
   "outputs": [],
   "source": [
    "names = open('names.txt').read().split('\\n')\n",
    "chars = {'.':0,}\n",
    "set_chars = set()\n",
    "for i in names:\n",
    "    for j in str(i):\n",
    "        set_chars.add(j)\n",
    "for i, letter in enumerate(sorted(list(set_chars))):\n",
    "    chars[letter] = i + 1\n",
    "keys_chars = list(chars.keys())"
   ]
  },
  {
   "cell_type": "code",
   "execution_count": 5,
   "id": "8f085a31-25cd-4303-a046-513be2e55258",
   "metadata": {},
   "outputs": [],
   "source": [
    "#  ... e\n",
    "#  ..e m\n",
    "#  .em m\n",
    "#  emm a\n",
    "#  mma .\n",
    "X, Y = [], []\n",
    "prev_lett = 3\n",
    "\n",
    "for name in names:\n",
    "    list_to_loop_of_names = ['.'] + list(name) + ['.']\n",
    "    for letter in range(len(list_to_loop_of_names)-1):\n",
    "        X_here, k = [], 0\n",
    "        while prev_lett-letter-k > 0:\n",
    "            X_here.append(0)\n",
    "            k += 1\n",
    "        while len(X_here) < prev_lett:\n",
    "            # print(letter, len(X_here))\n",
    "            X_here.append(chars[list_to_loop_of_names[letter+len(X_here)-prev_lett+1]])\n",
    "        X.append(X_here)\n",
    "        Y.append(chars[list_to_loop_of_names[letter+len(X_here)-prev_lett+1]])\n",
    "X = torch.tensor(X)\n",
    "Y = torch.tensor(Y)\n"
   ]
  },
  {
   "cell_type": "code",
   "execution_count": 6,
   "id": "40bb8b7a-f241-49ca-bc04-dc3ea63197e7",
   "metadata": {},
   "outputs": [],
   "source": [
    "def make_dataset(names):\n",
    "    Xs, Ys = [], []\n",
    "    for name in names:\n",
    "        list_to_loop_of_names = ['.'] + list(name) + ['.']\n",
    "        for letter in range(len(list_to_loop_of_names)-1):\n",
    "            X_here, k = [], 0\n",
    "            while prev_lett-letter-k > 0:\n",
    "                X_here.append(0)\n",
    "                k += 1\n",
    "            while len(X_here) < prev_lett:\n",
    "                X_here.append(chars[list_to_loop_of_names[letter+len(X_here)-prev_lett+1]])\n",
    "            Xs.append(X_here)\n",
    "            Ys.append(chars[list_to_loop_of_names[letter+len(X_here)-prev_lett+1]])\n",
    "    return torch.tensor(Xs), torch.tensor(Ys)\n",
    "random.shuffle(names)\n",
    "n1, n2 = int(0.8 * len(names)), int(0.9 * len(names))\n",
    "Xtrain, Ytrain = make_dataset(names[:n1])\n",
    "Xval, Yval = make_dataset(names[n1:n2])\n",
    "Xtest, Ytest = make_dataset(names[n2:])"
   ]
  },
  {
   "cell_type": "code",
   "execution_count": 7,
   "id": "f730aa3f-0c4d-4237-9914-f1ede50cea9d",
   "metadata": {},
   "outputs": [],
   "source": [
    "# CONSTS \n",
    "num_dim = 30\n",
    "num_input = prev_lett*num_dim\n",
    "num_W1 = 100\n",
    "num_W2 = 27\n",
    "batch_size = 32"
   ]
  },
  {
   "cell_type": "code",
   "execution_count": 61,
   "id": "1e112737-fa8f-4d6c-a246-dd81bfed30f1",
   "metadata": {},
   "outputs": [],
   "source": [
    "g = torch.Generator()\n",
    "g.manual_seed(2147483647)\n",
    "\n",
    "C = torch.randn(27, num_dim)\n",
    "W1 = torch.randn(num_input, num_W1) * 0.3\n",
    "b1 = torch.randn(num_W1) * 0\n",
    "W2 = torch.randn(num_W1, num_W2) * 0.1\n",
    "b2 = torch.randn(num_W2) * 0\n",
    "\n",
    "bn_bias = torch.zeros((1, num_W1))\n",
    "bn_mult = torch.ones((1, num_W1))\n",
    "\n",
    "bn_mean_mean = torch.zeros((1, num_W1))\n",
    "bn_std_mean = torch.ones((1, num_W1))\n",
    "\n",
    "P = [C, W1, b1, W2, b2, bn_bias, bn_mult]\n",
    "for p in P:\n",
    "    p.requires_grad = True"
   ]
  },
  {
   "cell_type": "code",
   "execution_count": 106,
   "id": "a34a3244-8011-4261-a057-47abd804453d",
   "metadata": {},
   "outputs": [],
   "source": [
    "epochs = 70000\n",
    "steps, losses = [], []\n",
    "for epoch in range(epochs):\n",
    "    samples_on_this_epoch = torch.randint(0, len(Xtrain), (batch_size,))\n",
    "    X_on_this_epoch = C[Xtrain[samples_on_this_epoch]].view(-1, prev_lett*num_dim)\n",
    "    Y_on_this_epoch = Ytrain[samples_on_this_epoch]\n",
    "    # first_stage = C[X] \n",
    "    h1 = X_on_this_epoch @ W1 + b1\n",
    "    h1_mean_this_stage = h1.mean(0, keepdims=True)\n",
    "    h1_std_this_stage = h1.std(0, keepdims=True)\n",
    "    h1 = bn_mult * (h1 - h1_mean_this_stage)/(h1_std_this_stage+ 0.0001) + bn_bias\n",
    "    h1 = torch.tanh(h1)\n",
    "    output = h1 @ W2 + b2\n",
    "\n",
    "    with torch.no_grad():\n",
    "        bn_mean_mean = 0.999 * bn_mean_mean + 0.001 * h1_mean_this_stage\n",
    "        bn_std_mean = 0.999 * bn_std_mean + 0.001 * h1_std_this_stage\n",
    "\n",
    "    loss = F.cross_entropy(output, Y_on_this_epoch)\n",
    "    for p in P:\n",
    "        p.grad = None\n",
    "    loss.backward()\n",
    "    lr = 0.1 if epoch/epochs < 0.3 else 0.01\n",
    "\n",
    "    for p in P:\n",
    "        p.data += -lr * p.grad\n",
    "    # W1.data += -lr * W1.grad\n",
    "    # W2.data += -lr * W2.grad\n",
    "    # b1.data += -lr * b1.grad\n",
    "    # b2.data += -lr * b2.grad\n",
    "\n",
    "    steps.append(epoch)\n",
    "    losses.append(loss.item())\n"
   ]
  },
  {
   "cell_type": "code",
   "execution_count": 107,
   "id": "0a066ec9-ea58-44ed-b5d4-96c3f6c7ffe2",
   "metadata": {},
   "outputs": [
    {
     "data": {
      "image/png": "[encoded data removed]",
      "text/plain": [
       "<Figure size 640x480 with 1 Axes>"
      ]
     },
     "metadata": {},
     "output_type": "display_data"
    }
   ],
   "source": [
    "plt.plot(steps, losses);"
   ]
  },
  {
   "cell_type": "code",
   "execution_count": 118,
   "id": "bfe476d6-8b1b-4b97-ad05-c9adf86afe66",
   "metadata": {},
   "outputs": [],
   "source": [
    "def check_loss(dataX, dataY):\n",
    "    losses_checker = []\n",
    "    for i in range(100):\n",
    "        # samples_on_this_epoch = torch.randint(0, len(dataX), (batch_size,))\n",
    "        X_on_this_epoch = C[dataX].view(-1, prev_lett*num_dim)\n",
    "        Y_on_this_epoch = dataY\n",
    "        # first_stage = C[X] \n",
    "        h1 = X_on_this_epoch @ W1 + b1\n",
    "        h1 = bn_mult * (h1 - bn_mean_mean)/(bn_std_mean+ 0.0001) + bn_bias\n",
    "        h1 = torch.tanh(h1)\n",
    "        output = h1 @ W2 + b2\n",
    "    \n",
    "        loss = F.cross_entropy(output, Y_on_this_epoch)\n",
    "        losses_checker.append(loss.item())\n",
    "    return torch.tensor(losses_checker).mean().item()"
   ]
  },
  {
   "cell_type": "code",
   "execution_count": 119,
   "id": "531ffc35-7e19-47fe-9f45-0614bfe4ab15",
   "metadata": {},
   "outputs": [
    {
     "name": "stdout",
     "output_type": "stream",
     "text": [
      "2.1321845054626465\n",
      "2.137974500656128\n"
     ]
    }
   ],
   "source": [
    "print(check_loss(Xval, Yval))\n",
    "print(check_loss(Xtest, Ytest))\n"
   ]
  },
  {
   "cell_type": "code",
   "execution_count": 110,
   "id": "aed3ecc4-23a8-4a6b-86e6-75a7ccb35eaa",
   "metadata": {},
   "outputs": [
    {
     "name": "stdout",
     "output_type": "stream",
     "text": [
      "['ahleva.', 'cara.', 'raydehuaniyah.', 'malyn.', 'brey.', 'jui.', 'laveron.', 'lihamirahawn.', 'luc.', 'sely.', 'kavishtikeysa.', 'aeverin.', 'nolw.', 'fabrenella.', 'anellyn.']\n"
     ]
    }
   ],
   "source": [
    "examples = []\n",
    "for i in range(15):\n",
    "    inp_letters = [0, 0, 0]\n",
    "    example = []\n",
    "    while True:\n",
    "        lol = torch.tensor(inp_letters)\n",
    "        X_on_this_epoch = C[lol].view(-1, prev_lett*num_dim)\n",
    "        \n",
    "        h1 = X_on_this_epoch @ W1 + b1\n",
    "        h1 = bn_mult * (h1 - bn_mean_mean)/(bn_std_mean+ 0.0001) + bn_bias\n",
    "        h1 = torch.tanh(h1)\n",
    "        output = h1 @ W2 + b2\n",
    "        \n",
    "        probs = output.exp()/torch.sum(output.exp(), dim=1, keepdim=True)\n",
    "        letter = torch.multinomial(probs, num_samples=1, replacement=True, generator=g).item()\n",
    "        inp_letters.append(letter)\n",
    "        inp_letters.pop(0)\n",
    "        example.append(keys_chars[letter])\n",
    "        letter = keys_chars[letter]\n",
    "        if letter == '.':\n",
    "            break\n",
    "    examples.append(''.join(example))\n",
    "print(examples)"
   ]
  },
  {
   "cell_type": "code",
   "execution_count": 111,
   "id": "fe8b839d-692f-4c99-b4fa-e8a57eeffcd5",
   "metadata": {},
   "outputs": [
    {
     "name": "stdout",
     "output_type": "stream",
     "text": [
      "- ahleva.\n",
      "- cara.\n",
      "- raydehuaniyah.\n",
      "- malyn.\n",
      "- brey.\n",
      "- jui.\n",
      "- laveron.\n",
      "- lihamirahawn.\n",
      "- luc.\n",
      "- sely.\n",
      "- kavishtikeysa.\n",
      "- aeverin.\n",
      "- nolw.\n",
      "- fabrenella.\n",
      "- anellyn.\n"
     ]
    }
   ],
   "source": [
    "for i in examples:\n",
    "    print(f'- {i}')\n",
    "    # print('\\n')\n",
    "    "
   ]
  },
  {
   "cell_type": "code",
   "execution_count": 206,
   "id": "4116536e-8fc7-4c3c-a328-1d47ca01cce3",
   "metadata": {},
   "outputs": [],
   "source": [
    "class Linear:\n",
    "    \n",
    "    def __init__(self, inp_neur, out_neur, bias_req=True):\n",
    "        self.weights = torch.randn(inp_neur, out_neur)\n",
    "        if bias_req: self.bias = torch.zeros(out_neur)\n",
    "        else:        self.bias = None\n",
    "\n",
    "    def __call__(self, x):\n",
    "        self.out = x @ self.weights\n",
    "        if self.bias != None: self.out += self.bias\n",
    "        return self.out\n",
    "\n",
    "    def params(self):\n",
    "        return [self.weights] + ([] if self.bias is None else [self.bias])\n",
    "\n",
    "\n",
    "class batchNormal:\n",
    "    def __init__(self, neur, calc_mean=True, e=0.0001, momentum=0.01):\n",
    "        self.momentum = momentum\n",
    "        self.e = e\n",
    "        self.weights = torch.ones((1, neur))\n",
    "        self.bias = torch.zeros((1, neur))\n",
    "        self.training = True\n",
    "\n",
    "        if calc_mean:\n",
    "            self.mean_mean = torch.zeros((1, neur))\n",
    "            self.std_mean = torch.ones((1, neur))\n",
    "        else:\n",
    "            self.mean_mean = None\n",
    "            self.std_mean = None\n",
    "\n",
    "    def __call__(self, x):\n",
    "        if self.training:\n",
    "            x_mean_now = x.mean(0, keepdims=True)\n",
    "            x_std_now = x.std(0, keepdims=True)\n",
    "        else:\n",
    "            x_mean_now = self.mean_mean\n",
    "            x_std_now = self.std_mean\n",
    "        self.out = self.weights * (x - x_mean_now)/(x_std_now + e) + self.bias\n",
    "\n",
    "        if self.training:\n",
    "            if self.mean_mean != None:\n",
    "                with torch.no_grad():\n",
    "                    self.mean_mean = (1 - momentum) * self.mean_mean + self.momentum * x_mean_now\n",
    "                    self.std_mean = (1 - momentum) * self.std_mean + self.momentum * x_std_now\n",
    "\n",
    "        return self.out\n",
    "\n",
    "    def params(self):\n",
    "        return [self.weights, self.bias]\n",
    "\n",
    "class Tanh:\n",
    "    def __call__(self, x):\n",
    "        self.out = torch.tanh(x)\n",
    "        return self.out\n",
    "\n",
    "    def params(self):\n",
    "        return []"
   ]
  },
  {
   "cell_type": "code",
   "execution_count": 207,
   "id": "3b837355-4d85-4c7c-8e94-ce85010f2f4a",
   "metadata": {},
   "outputs": [],
   "source": [
    "# CONSTS \n",
    "num_dim = 30\n",
    "num_input = prev_lett * num_dim\n",
    "num_W1 = 100\n",
    "num_W2 = 27\n",
    "batch_size = 32"
   ]
  },
  {
   "cell_type": "code",
   "execution_count": 208,
   "id": "6651ca7b-f8ae-467e-a0db-6617c4067456",
   "metadata": {},
   "outputs": [],
   "source": [
    "C = torch.randn(27, num_dim)\n",
    "layers = [\n",
    "    Linear(num_input, num_W1), Tanh(),\n",
    "    Linear(num_W1, num_W2),\n",
    "]\n",
    "with torch.no_grad():\n",
    "    layers[-1].weights *= 0.1\n",
    "\n",
    "P = [C] + [p for layer in layers for p in layer.params()]\n",
    "for p in P:\n",
    "    p.requires_grad = True"
   ]
  },
  {
   "cell_type": "code",
   "execution_count": 209,
   "id": "58b176a6-19c8-4644-8939-55db179ddc03",
   "metadata": {},
   "outputs": [],
   "source": [
    "epochs = 10000\n",
    "steps, losses = [], []\n",
    "for epoch in range(epochs):\n",
    "    samples_on_this_epoch = torch.randint(0, len(Xtrain), (batch_size,))\n",
    "    X_on_this_epoch = C[Xtrain[samples_on_this_epoch]].view(C[Xtrain[samples_on_this_epoch]].shape[0], -1)\n",
    "    Y_on_this_epoch = Ytrain[samples_on_this_epoch]\n",
    "    for layer in layers:\n",
    "        X_on_this_epoch = layer(X_on_this_epoch)\n",
    "\n",
    "    loss = F.cross_entropy(X_on_this_epoch, Y_on_this_epoch)\n",
    "    \n",
    "    for p in P:\n",
    "        p.grad = None\n",
    "        \n",
    "    loss.backward()\n",
    "    lr = 0.1 if epoch/epochs < 0.3 else 0.01\n",
    "\n",
    "    for p in P:\n",
    "        p.data += -lr * p.grad\n",
    "\n",
    "    steps.append(epoch)\n",
    "    losses.append(loss.item())\n"
   ]
  },
  {
   "cell_type": "code",
   "execution_count": 210,
   "id": "9fd225ba-fd39-43ac-9301-8c5c318eb4bf",
   "metadata": {},
   "outputs": [
    {
     "data": {
      "image/png": "[encoded data removed]",
      "text/plain": [
       "<Figure size 640x480 with 1 Axes>"
      ]
     },
     "metadata": {},
     "output_type": "display_data"
    }
   ],
   "source": [
    "plt.plot(steps, losses);"
   ]
  },
  {
   "cell_type": "code",
   "execution_count": null,
   "id": "919b60cc-0272-440e-9a66-4d1fe75c680b",
   "metadata": {},
   "outputs": [],
   "source": []
  }
 ],
 "metadata": {
  "kernelspec": {
   "display_name": "Python 3 (ipykernel)",
   "language": "python",
   "name": "python3"
  },
  "language_info": {
   "codemirror_mode": {
    "name": "ipython",
    "version": 3
   },
   "file_extension": ".py",
   "mimetype": "text/x-python",
   "name": "python",
   "nbconvert_exporter": "python",
   "pygments_lexer": "ipython3",
   "version": "3.10.11"
  }
 },
 "nbformat": 4,
 "nbformat_minor": 5
}
