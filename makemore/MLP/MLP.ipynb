{
 "cells": [
  {
   "cell_type": "code",
   "execution_count": 2,
   "id": "a63aaadc-2e8c-40ed-b4a9-9aa91523f277",
   "metadata": {},
   "outputs": [],
   "source": [
    "import torch\n",
    "import matplotlib.pyplot as plt\n",
    "import numpy as np\n",
    "import torch.nn.functional as F\n",
    "import random"
   ]
  },
  {
   "cell_type": "code",
   "execution_count": 3,
   "id": "b3bc5c5c-9bde-46de-b3b9-893f768de00e",
   "metadata": {},
   "outputs": [],
   "source": [
    "names = open('names.txt').read().split('\\n')\n",
    "chars = {'.':0,}\n",
    "set_chars = set()\n",
    "for i in names:\n",
    "    for j in str(i):\n",
    "        set_chars.add(j)\n",
    "for i, letter in enumerate(sorted(list(set_chars))):\n",
    "    chars[letter] = i + 1\n",
    "keys_chars = list(chars.keys())"
   ]
  },
  {
   "cell_type": "code",
   "execution_count": 4,
   "id": "8f085a31-25cd-4303-a046-513be2e55258",
   "metadata": {},
   "outputs": [],
   "source": [
    "#  ... e\n",
    "#  ..e m\n",
    "#  .em m\n",
    "#  emm a\n",
    "#  mma .\n",
    "X, Y = [], []\n",
    "prev_lett = 8\n",
    "\n",
    "for name in names:\n",
    "    list_to_loop_of_names = ['.'] + list(name) + ['.']\n",
    "    for letter in range(len(list_to_loop_of_names)-1):\n",
    "        X_here, k = [], 0\n",
    "        while prev_lett-letter-k > 0:\n",
    "            X_here.append(0)\n",
    "            k += 1\n",
    "        while len(X_here) < prev_lett:\n",
    "            # print(letter, len(X_here))\n",
    "            X_here.append(chars[list_to_loop_of_names[letter+len(X_here)-prev_lett+1]])\n",
    "        X.append(X_here)\n",
    "        Y.append(chars[list_to_loop_of_names[letter+len(X_here)-prev_lett+1]])\n",
    "X = torch.tensor(X)\n",
    "Y = torch.tensor(Y)\n"
   ]
  },
  {
   "cell_type": "code",
   "execution_count": 5,
   "id": "40bb8b7a-f241-49ca-bc04-dc3ea63197e7",
   "metadata": {},
   "outputs": [],
   "source": [
    "def make_dataset(names):\n",
    "    Xs, Ys = [], []\n",
    "    for name in names:\n",
    "        list_to_loop_of_names = ['.'] + list(name) + ['.']\n",
    "        for letter in range(len(list_to_loop_of_names)-1):\n",
    "            X_here, k = [], 0\n",
    "            while prev_lett-letter-k > 0:\n",
    "                X_here.append(0)\n",
    "                k += 1\n",
    "            while len(X_here) < prev_lett:\n",
    "                X_here.append(chars[list_to_loop_of_names[letter+len(X_here)-prev_lett+1]])\n",
    "            Xs.append(X_here)\n",
    "            Ys.append(chars[list_to_loop_of_names[letter+len(X_here)-prev_lett+1]])\n",
    "    return torch.tensor(Xs), torch.tensor(Ys)\n",
    "random.shuffle(names)\n",
    "n1, n2 = int(0.8 * len(names)), int(0.9 * len(names))\n",
    "Xtrain, Ytrain = make_dataset(names[:n1])\n",
    "Xval, Yval = make_dataset(names[n1:n2])\n",
    "Xtest, Ytest = make_dataset(names[n2:])"
   ]
  },
  {
   "cell_type": "code",
   "execution_count": 77,
   "id": "4116536e-8fc7-4c3c-a328-1d47ca01cce3",
   "metadata": {},
   "outputs": [],
   "source": [
    "class Linear:\n",
    "    \n",
    "    def __init__(self, inp_neur, out_neur, bias_req=True):\n",
    "        self.weights = torch.randn((inp_neur, out_neur), generator=g) / inp_neur**0.5\n",
    "        if bias_req: self.bias = torch.zeros(out_neur)\n",
    "        else:        self.bias = None\n",
    "\n",
    "    def __call__(self, x):\n",
    "        self.out = x @ self.weights\n",
    "        if self.bias != None: self.out += self.bias\n",
    "        return self.out\n",
    "\n",
    "    def params(self):\n",
    "        return [self.weights] + ([] if self.bias is None else [self.bias])\n",
    "\n",
    "\n",
    "class Embedding:\n",
    "  \n",
    "  def __init__(self, num_embeddings, num_dim):\n",
    "    self.weight = torch.randn((num_embeddings, num_dim), generator=g)\n",
    "    \n",
    "  def __call__(self, IX):\n",
    "    self.out = self.weight[IX]\n",
    "    return self.out\n",
    "  \n",
    "  def params(self):\n",
    "    return [self.weight]\n",
    "\n",
    "class Flatten:\n",
    "\n",
    "    def __call__(self, x):\n",
    "        self.out = x.view(x.shape[0], -1)\n",
    "        return self.out\n",
    "\n",
    "    def params(self):\n",
    "        return []\n",
    "        \n",
    "\n",
    "class batchNormal:\n",
    "    def __init__(self, neur, calc_mean=True, e=0.0001, momentum=0.1):\n",
    "        self.momentum = momentum\n",
    "        self.e = e\n",
    "        self.weights = torch.ones(neur)\n",
    "        self.bias = torch.zeros(neur)\n",
    "        self.training = True\n",
    "\n",
    "        self.mean_mean = torch.zeros(neur)\n",
    "        self.std_mean = torch.ones(neur)\n",
    "\n",
    "    def __call__(self, x):\n",
    "        if self.training:\n",
    "            x_mean_now = x.mean(0, keepdims=True)\n",
    "            x_std_now = x.var(0, keepdim=True)\n",
    "        else:\n",
    "            x_mean_now = self.mean_mean\n",
    "            x_std_now = self.std_mean\n",
    "        xhat = (x - x_mean_now) / torch.sqrt(x_std_now + self.e) # normalize to unit variance\n",
    "        self.out = self.weights * xhat + self.bias\n",
    "        # self.out = self.weights * (x - x_mean_now)/torch.sqrt(x_std_now + self.e) + self.bias\n",
    "\n",
    "        if self.training:\n",
    "            with torch.no_grad():\n",
    "                self.mean_mean = (1 - self.momentum) * self.mean_mean + self.momentum * x_mean_now\n",
    "                self.std_mean = (1 - self.momentum) * self.std_mean + self.momentum * x_std_now\n",
    "\n",
    "        return self.out\n",
    "        \n",
    "    def params(self):\n",
    "        return [self.weights, self.bias]\n",
    "\n",
    "class Tanh:\n",
    "    def __call__(self, x):\n",
    "        self.out = torch.tanh(x)\n",
    "        return self.out\n",
    "\n",
    "    def params(self):\n",
    "        return []"
   ]
  },
  {
   "cell_type": "code",
   "execution_count": 78,
   "id": "3b837355-4d85-4c7c-8e94-ce85010f2f4a",
   "metadata": {},
   "outputs": [],
   "source": [
    "# CONSTS \n",
    "num_dim = 30\n",
    "num_input = prev_lett * num_dim\n",
    "num_W1 = 100\n",
    "num_W2 = 27\n",
    "batch_size = 32"
   ]
  },
  {
   "cell_type": "code",
   "execution_count": 79,
   "id": "6651ca7b-f8ae-467e-a0db-6617c4067456",
   "metadata": {},
   "outputs": [
    {
     "name": "stdout",
     "output_type": "stream",
     "text": [
      "27837\n"
     ]
    }
   ],
   "source": [
    "g = torch.Generator()\n",
    "g.manual_seed(2147483647)\n",
    "# C = torch.randn((27, num_dim), generator=g)\n",
    "layers = [\n",
    "    Embedding(27, num_dim),\n",
    "    Flatten(),\n",
    "    Linear(num_input, num_W1), batchNormal(num_W1), Tanh(),\n",
    "    Linear(num_W1, num_W2),\n",
    "]\n",
    "\n",
    "P = [p for layer in layers for p in layer.params()]\n",
    "print(sum(p.nelement() for p in P))\n",
    "\n",
    "for p in P:\n",
    "    p.requires_grad = True"
   ]
  },
  {
   "cell_type": "code",
   "execution_count": 80,
   "id": "58b176a6-19c8-4644-8939-55db179ddc03",
   "metadata": {},
   "outputs": [],
   "source": [
    "epochs = 70000\n",
    "steps, losses = [], []\n",
    "for epoch in range(epochs):\n",
    "    samples_on_this_epoch = torch.randint(0, len(Xtrain), (batch_size,), generator=g)\n",
    "    X_on_this_epoch = Xtrain[samples_on_this_epoch]\n",
    "    Y_on_this_epoch = Ytrain[samples_on_this_epoch]\n",
    "    # print(C[Xtrain[samples_on_this_epoch]].shape[0])\n",
    "    \n",
    "    for layer in layers:\n",
    "        X_on_this_epoch = layer(X_on_this_epoch)\n",
    "        # print(X_on_this_epoch.shape)\n",
    "    loss = F.cross_entropy(X_on_this_epoch, Y_on_this_epoch)\n",
    "    \n",
    "    for layer in layers:\n",
    "        layer.out.retain_grad()\n",
    "    for p in P:\n",
    "        p.grad = None\n",
    "        \n",
    "    loss.backward()\n",
    "    lr = 0.1 if epoch/epochs < 0.3 else 0.01\n",
    "\n",
    "    for p in P:\n",
    "        p.data += -lr * p.grad\n",
    "\n",
    "    # steps.append(epoch)\n",
    "    losses.append(loss.item())\n"
   ]
  },
  {
   "cell_type": "code",
   "execution_count": 100,
   "id": "9fd225ba-fd39-43ac-9301-8c5c318eb4bf",
   "metadata": {},
   "outputs": [
    {
     "data": {
      "image/png": "[encoded data removed]",
      "text/plain": [
       "<Figure size 640x480 with 1 Axes>"
      ]
     },
     "metadata": {},
     "output_type": "display_data"
    }
   ],
   "source": [
    "losses_tensor = torch.tensor(losses).view(-1, 1000).mean(1)\n",
    "steps = torch.arange(losses_tensor.shape[-1])\n",
    "plt.plot(steps, losses_tensor);"
   ]
  },
  {
   "cell_type": "code",
   "execution_count": 82,
   "id": "3c38598b-ccb5-4a90-bb00-2e33143692b2",
   "metadata": {},
   "outputs": [],
   "source": [
    "for layer in layers:\n",
    "    layer.training = False"
   ]
  },
  {
   "cell_type": "code",
   "execution_count": 86,
   "id": "9465708a-9f8d-4552-ab68-3f604f7f78b8",
   "metadata": {},
   "outputs": [],
   "source": [
    "@torch.no_grad()\n",
    "def check_loss(dataX, dataY):\n",
    "    losses_checker = []\n",
    "    # for i in range(100):\n",
    "    X_on_this_epoch = dataX\n",
    "    Y_on_this_epoch = dataY\n",
    "    for layer in layers:\n",
    "        X_on_this_epoch = layer(X_on_this_epoch)\n",
    "    \n",
    "    loss = F.cross_entropy(X_on_this_epoch, Y_on_this_epoch)\n",
    "    losses_checker.append(loss.item())\n",
    "    return torch.tensor(losses_checker).mean().item()"
   ]
  },
  {
   "cell_type": "code",
   "execution_count": 87,
   "id": "abfa205a-3e47-4c26-8fd7-0e7b1241b5cc",
   "metadata": {},
   "outputs": [
    {
     "name": "stdout",
     "output_type": "stream",
     "text": [
      "2.0634329319000244\n",
      "2.053928852081299\n"
     ]
    }
   ],
   "source": [
    "print(check_loss(Xval, Yval))\n",
    "print(check_loss(Xtest, Ytest))"
   ]
  },
  {
   "cell_type": "code",
   "execution_count": 90,
   "id": "919b60cc-0272-440e-9a66-4d1fe75c680b",
   "metadata": {},
   "outputs": [
    {
     "name": "stdout",
     "output_type": "stream",
     "text": [
      "['evena.', 'zehiel.', 'nyen.', 'deoper.', 'adelsi.', 'lawan.', 'riwent.', 'bannnech.', 'maith.', 'kaiyan.', 'adnalith.', 'andelise.', 'kamir.', 'castida.', 'zayver.']\n"
     ]
    }
   ],
   "source": [
    "examples = []\n",
    "for i in range(15):\n",
    "    inp_letters = [0] * prev_lett\n",
    "    example = []\n",
    "    while True:\n",
    "        lol = torch.tensor(inp_letters)\n",
    "        X_on_this_epoch = lol.view(1, 8)\n",
    "        \n",
    "        for layer in layers:\n",
    "            X_on_this_epoch = layer(X_on_this_epoch)\n",
    "            # print(X_on_this_epoch.shape)\n",
    "        \n",
    "        probs = F.softmax(X_on_this_epoch, dim=1)\n",
    "        letter = torch.multinomial(probs, num_samples=1, replacement=True, generator=g).item()\n",
    "        inp_letters.append(letter)\n",
    "        inp_letters.pop(0)\n",
    "        example.append(keys_chars[letter])\n",
    "        letter = keys_chars[letter]\n",
    "        if letter == '.':\n",
    "            break\n",
    "    examples.append(''.join(example))\n",
    "print(examples)"
   ]
  },
  {
   "cell_type": "code",
   "execution_count": null,
   "id": "2ae2666c-8a37-40be-a03b-3f8a2842678e",
   "metadata": {},
   "outputs": [],
   "source": []
  },
  {
   "cell_type": "code",
   "execution_count": null,
   "id": "100a7f39-a2c4-436f-aae2-83cc594caf3a",
   "metadata": {},
   "outputs": [],
   "source": []
  }
 ],
 "metadata": {
  "kernelspec": {
   "display_name": "Python 3 (ipykernel)",
   "language": "python",
   "name": "python3"
  },
  "language_info": {
   "codemirror_mode": {
    "name": "ipython",
    "version": 3
   },
   "file_extension": ".py",
   "mimetype": "text/x-python",
   "name": "python",
   "nbconvert_exporter": "python",
   "pygments_lexer": "ipython3",
   "version": "3.10.11"
  }
 },
 "nbformat": 4,
 "nbformat_minor": 5
}
