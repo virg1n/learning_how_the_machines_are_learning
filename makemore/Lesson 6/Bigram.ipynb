{
 "cells": [
  {
   "cell_type": "code",
   "execution_count": 107,
   "id": "a380dbaf-4ee3-43f6-9f96-25e70685bbc0",
   "metadata": {},
   "outputs": [],
   "source": [
    "import torch\n",
    "import matplotlib.pyplot as plt\n",
    "import numpy as np\n",
    "import torch.nn as nn\n",
    "import torch.nn.functional as F\n",
    "import random"
   ]
  },
  {
   "cell_type": "code",
   "execution_count": 108,
   "id": "57f84dac-eabb-4c81-ad0d-b5677365aa84",
   "metadata": {},
   "outputs": [],
   "source": [
    "inp_text = str(open('input.txt').read())\n",
    "chars = {}\n",
    "set_chars = set()\n",
    "for i in inp_text:\n",
    "    for j in str(i):\n",
    "        set_chars.add(j)\n",
    "for i, letter in enumerate(sorted(list(set_chars))):\n",
    "    chars[letter] = i"
   ]
  },
  {
   "cell_type": "code",
   "execution_count": 123,
   "id": "76869a25-2acb-4b14-8b79-38dd2dd12b00",
   "metadata": {},
   "outputs": [
    {
     "data": {
      "text/plain": [
       "'cuda'"
      ]
     },
     "execution_count": 123,
     "metadata": {},
     "output_type": "execute_result"
    }
   ],
   "source": [
    "keys_chars = list(chars.keys())\n",
    "vocab_size = len(keys_chars)\n",
    "batch_size = 4\n",
    "context_len = 8\n",
    "emb_neur = 64\n",
    "epochs = 5000\n",
    "num_blocks = 4\n",
    "number_of_heads = 4\n",
    "dropout_neur = 0.2\n",
    "lr = 3e-4\n",
    "device = 'cuda' if torch.cuda.is_available() else 'cpu'\n",
    "device"
   ]
  },
  {
   "cell_type": "code",
   "execution_count": 110,
   "id": "aedf4a46-b74b-4c6c-95ce-3f66b4c903f9",
   "metadata": {},
   "outputs": [],
   "source": [
    "def encode(inp):\n",
    "    ans = []\n",
    "    for i in inp:\n",
    "        ans.append(chars[i])\n",
    "    return ans\n",
    "\n",
    "def decode(inp):\n",
    "    ans = \"\"\n",
    "    for i in inp:\n",
    "        ans+=str(keys_chars[i])\n",
    "    return ans\n",
    "inp_text = torch.tensor(encode(inp_text), dtype=torch.long)"
   ]
  },
  {
   "cell_type": "code",
   "execution_count": 111,
   "id": "d13afee2-a555-4206-a971-8fdfa940c8e8",
   "metadata": {},
   "outputs": [],
   "source": [
    "n1 = int(0.9 * len(inp_text))\n",
    "train_data = inp_text[:n1]\n",
    "val_data = inp_text[n1:]\n"
   ]
  },
  {
   "cell_type": "code",
   "execution_count": 112,
   "id": "59c5ede8-3f2b-4bb7-b8c5-16a03b3775be",
   "metadata": {},
   "outputs": [],
   "source": [
    "def get_batch(data):\n",
    "    ixs = torch.randint(0, len(data)-context_len-1, (batch_size,))\n",
    "    x_batches = torch.stack([data[i:i+context_len] for i in ixs])\n",
    "    ys = torch.stack([data[i+1:i+context_len+1] for i in ixs])\n",
    "    x_batches, ys = x_batches.to(device), ys.to(device)\n",
    "    return x_batches, ys\n"
   ]
  },
  {
   "cell_type": "code",
   "execution_count": 113,
   "id": "2ff4aeea-425f-4246-acbd-e35d7eda4a79",
   "metadata": {},
   "outputs": [],
   "source": [
    "@torch.no_grad()\n",
    "def calculate_loss(data):\n",
    "    losses = []\n",
    "    m.eval()\n",
    "    for _ in range(1000):\n",
    "        xs, ys = get_batch(data)\n",
    "        logits, loss = m(xs, ys)\n",
    "        losses.append(loss.item())\n",
    "    losses = torch.tensor(losses)\n",
    "    m.train()\n",
    "    return losses.mean()"
   ]
  },
  {
   "cell_type": "code",
   "execution_count": 130,
   "id": "2f74fac7-234a-4bca-b2de-b97abb623b07",
   "metadata": {},
   "outputs": [],
   "source": [
    "torch.manual_seed(1337)\n",
    "\n",
    "class Head(nn.Module):\n",
    "    def __init__(self, head_size):\n",
    "        super().__init__()\n",
    "        self.key = nn.Linear(emb_neur, head_size, bias=False)\n",
    "        self.query = nn.Linear(emb_neur, head_size, bias=False)\n",
    "        self.value = nn.Linear(emb_neur, head_size, bias=False)\n",
    "\n",
    "    def forward(self, xs):\n",
    "        B, T, C = xs.shape\n",
    "        k = self.key(xs)\n",
    "        q = self.query(xs)\n",
    "        v = self.value(xs)\n",
    "\n",
    "        xs = k @ q.transpose(-2, -1) * k.shape[-1]**-0.5\n",
    "        xs = torch.tril(xs)\n",
    "        xs = xs.masked_fill(xs == 0, float(\"-inf\"))\n",
    "        xs = F.softmax(xs, dim=-1)\n",
    "        \n",
    "        out = xs @ v\n",
    "        return out\n",
    "\n",
    "class MultiHead(nn.Module):\n",
    "    def __init__(self, num_heads, head_size):\n",
    "        super().__init__()\n",
    "        self.heads = nn.ModuleList([Head(head_size) for _ in range(num_heads)])\n",
    "        # self.proj = nn.Linear(emb_neur, emb_neur)\n",
    "        # self.dropout = nn.Dropout(dropout_neur)\n",
    "\n",
    "    def forward(self, xs):\n",
    "        xs = torch.cat([head(xs) for head in self.heads], dim=-1)\n",
    "        # return self.dropout(self.proj(xs))\n",
    "        return xs\n",
    "\n",
    "class FeedForward(nn.Module):\n",
    "    def __init__(self):\n",
    "        super().__init__()\n",
    "        self.net = nn.Sequential(\n",
    "            nn.Linear(emb_neur, 4 * emb_neur),\n",
    "            nn.ReLU(),\n",
    "            nn.Linear(4 * emb_neur, emb_neur),\n",
    "            # nn.Dropout(dropout_neur),\n",
    "        )\n",
    "\n",
    "    def forward(self, xs):\n",
    "        return self.net(xs)\n",
    "        \n",
    "\n",
    "class Block(nn.Module):\n",
    "    def __init__(self, num_heads, head_size):\n",
    "        super().__init__()\n",
    "        self.multi_heads = MultiHead(num_heads, head_size)\n",
    "        self.ff = FeedForward()\n",
    "        # self.ln1 = nn.LayerNorm(emb_neur)\n",
    "        # self.ln2 = nn.LayerNorm(emb_neur)\n",
    "\n",
    "    def forward(self, xs):\n",
    "        # xs = xs + self.multi_heads(self.ln1(xs))\n",
    "        # xs = xs + self.ff(self.ln2(xs))\n",
    "        xs = xs + self.multi_heads(xs)\n",
    "        xs = xs + self.ff(xs)\n",
    "        return xs\n",
    "        \n",
    "\n",
    "class BigramLanguageModel(nn.Module):\n",
    "    def __init__(self):\n",
    "        super().__init__()\n",
    "        self.tokens_embedding = nn.Embedding(vocab_size, emb_neur)\n",
    "        self.position_embedding = nn.Embedding(context_len, emb_neur)\n",
    "        # self.sa_head = Head(emb_neur)\n",
    "        # self.multi_head = MultiHead(number_of_heads, emb_neur//number_of_heads)\n",
    "        self.blocks = nn.Sequential( Block(number_of_heads, emb_neur//number_of_heads), Block(number_of_heads, emb_neur//number_of_heads), Block(number_of_heads, emb_neur//number_of_heads) )\n",
    "        self.ln = nn.LayerNorm(emb_neur)\n",
    "        self.ll_head = nn.Linear(emb_neur, vocab_size)\n",
    "\n",
    "    def forward(self, xs_inputs, targets=None):\n",
    "        B, T = xs_inputs.shape\n",
    "        \n",
    "        embedded_tokens = self.tokens_embedding(xs_inputs) # B, T, emb_neur\n",
    "        embedded_position = self.position_embedding(torch.arange(T, device=device)) # T, emb_neur\n",
    "        \n",
    "        xs_inputs = embedded_tokens + embedded_position # B, T, emb_neur\n",
    "        xs_inputs = self.blocks(xs_inputs)\n",
    "        # xs_inputs = self.ln(xs_inputs)\n",
    "        logits = self.ll_head(xs_inputs)\n",
    "        \n",
    "        \n",
    "        if targets is None:\n",
    "            loss = None\n",
    "        else:\n",
    "            B, T, C = logits.shape\n",
    "            logits = logits.view(B*T, C)\n",
    "            targets = targets.view(B*T)\n",
    "            loss = F.cross_entropy(logits, targets)\n",
    "        return logits, loss\n",
    "\n",
    "    def generate(self, xs_inputs, max_tokens):\n",
    "        for _ in range(max_tokens):\n",
    "            xs_cond = xs_inputs[:, -context_len:]\n",
    "            logits, loss = self(xs_cond)\n",
    "            logits = logits[:, -1, :]\n",
    "            probs = F.softmax(logits, dim=-1)\n",
    "            next_letter = torch.multinomial(probs, num_samples=1)\n",
    "            xs_inputs = torch.cat((xs_inputs, next_letter), dim=1)\n",
    "        return xs_inputs\n",
    "        \n"
   ]
  },
  {
   "cell_type": "code",
   "execution_count": 131,
   "id": "c6ec194a-03ba-4274-a3cd-986396b61837",
   "metadata": {},
   "outputs": [
    {
     "name": "stdout",
     "output_type": "stream",
     "text": [
      "0.145153 M parameters\n"
     ]
    }
   ],
   "source": [
    "m = BigramLanguageModel()\n",
    "m = m.to(device)\n",
    "print(sum(p.numel() for p in m.parameters())/1e6, 'M parameters')\n",
    "optmizer = torch.optim.Adam(m.parameters(), lr=lr)"
   ]
  },
  {
   "cell_type": "code",
   "execution_count": 133,
   "id": "620b6bda-8918-402f-aa4e-eef121298af1",
   "metadata": {},
   "outputs": [
    {
     "name": "stdout",
     "output_type": "stream",
     "text": [
      "0 / 5000 loss:\n",
      "1 / 5000 loss:\n",
      "2 / 5000 loss:\n",
      "3 / 5000 loss:\n",
      "4 / 5000 loss:\n",
      "5 / 5000 loss:\n",
      "6 / 5000 loss:\n",
      "7 / 5000 loss:\n",
      "8 / 5000 loss:\n",
      "9 / 5000 loss:\n",
      "10 / 5000 loss:\n",
      "11 / 5000 loss:\n",
      "12 / 5000 loss:\n",
      "13 / 5000 loss:\n",
      "14 / 5000 loss:\n",
      "15 / 5000 loss:\n",
      "16 / 5000 loss:\n",
      "17 / 5000 loss:\n",
      "18 / 5000 loss:\n",
      "19 / 5000 loss:\n",
      "20 / 5000 loss:\n",
      "21 / 5000 loss:\n",
      "22 / 5000 loss:\n",
      "23 / 5000 loss:\n",
      "24 / 5000 loss:\n",
      "25 / 5000 loss:\n",
      "26 / 5000 loss:\n",
      "27 / 5000 loss:\n",
      "28 / 5000 loss:\n",
      "29 / 5000 loss:\n",
      "30 / 5000 loss:\n",
      "31 / 5000 loss:\n",
      "32 / 5000 loss:\n",
      "33 / 5000 loss:\n",
      "34 / 5000 loss:\n",
      "35 / 5000 loss:\n",
      "36 / 5000 loss:\n",
      "37 / 5000 loss:\n",
      "38 / 5000 loss:\n",
      "39 / 5000 loss:\n",
      "40 / 5000 loss:\n",
      "41 / 5000 loss:\n",
      "42 / 5000 loss:\n",
      "43 / 5000 loss:\n",
      "44 / 5000 loss:\n",
      "45 / 5000 loss:\n",
      "46 / 5000 loss:\n",
      "47 / 5000 loss:\n",
      "48 / 5000 loss:\n",
      "49 / 5000 loss:\n",
      "50 / 5000 loss:\n",
      "51 / 5000 loss:\n",
      "52 / 5000 loss:\n",
      "53 / 5000 loss:\n",
      "54 / 5000 loss:\n",
      "55 / 5000 loss:\n",
      "56 / 5000 loss:\n",
      "57 / 5000 loss:\n",
      "58 / 5000 loss:\n",
      "59 / 5000 loss:\n",
      "60 / 5000 loss:\n",
      "61 / 5000 loss:\n"
     ]
    },
    {
     "ename": "KeyboardInterrupt",
     "evalue": "",
     "output_type": "error",
     "traceback": [
      "\u001b[1;31m---------------------------------------------------------------------------\u001b[0m",
      "\u001b[1;31mKeyboardInterrupt\u001b[0m                         Traceback (most recent call last)",
      "Cell \u001b[1;32mIn[133], line 3\u001b[0m\n\u001b[0;32m      1\u001b[0m \u001b[38;5;28;01mfor\u001b[39;00m epoch \u001b[38;5;129;01min\u001b[39;00m \u001b[38;5;28mrange\u001b[39m(epochs):\n\u001b[0;32m      2\u001b[0m     xs, ys \u001b[38;5;241m=\u001b[39m get_batch(train_data)\n\u001b[1;32m----> 3\u001b[0m     logits, loss \u001b[38;5;241m=\u001b[39m \u001b[43mm\u001b[49m\u001b[43m(\u001b[49m\u001b[43mxs\u001b[49m\u001b[43m,\u001b[49m\u001b[43m \u001b[49m\u001b[43mys\u001b[49m\u001b[43m)\u001b[49m\n\u001b[0;32m      4\u001b[0m     optmizer\u001b[38;5;241m.\u001b[39mzero_grad(set_to_none\u001b[38;5;241m=\u001b[39m\u001b[38;5;28;01mTrue\u001b[39;00m)\n\u001b[0;32m      5\u001b[0m     loss\u001b[38;5;241m.\u001b[39mbackward()\n",
      "File \u001b[1;32m~\\AppData\\Local\\Programs\\Python\\Python310\\lib\\site-packages\\torch\\nn\\modules\\module.py:1501\u001b[0m, in \u001b[0;36mModule._call_impl\u001b[1;34m(self, *args, **kwargs)\u001b[0m\n\u001b[0;32m   1496\u001b[0m \u001b[38;5;66;03m# If we don't have any hooks, we want to skip the rest of the logic in\u001b[39;00m\n\u001b[0;32m   1497\u001b[0m \u001b[38;5;66;03m# this function, and just call forward.\u001b[39;00m\n\u001b[0;32m   1498\u001b[0m \u001b[38;5;28;01mif\u001b[39;00m \u001b[38;5;129;01mnot\u001b[39;00m (\u001b[38;5;28mself\u001b[39m\u001b[38;5;241m.\u001b[39m_backward_hooks \u001b[38;5;129;01mor\u001b[39;00m \u001b[38;5;28mself\u001b[39m\u001b[38;5;241m.\u001b[39m_backward_pre_hooks \u001b[38;5;129;01mor\u001b[39;00m \u001b[38;5;28mself\u001b[39m\u001b[38;5;241m.\u001b[39m_forward_hooks \u001b[38;5;129;01mor\u001b[39;00m \u001b[38;5;28mself\u001b[39m\u001b[38;5;241m.\u001b[39m_forward_pre_hooks\n\u001b[0;32m   1499\u001b[0m         \u001b[38;5;129;01mor\u001b[39;00m _global_backward_pre_hooks \u001b[38;5;129;01mor\u001b[39;00m _global_backward_hooks\n\u001b[0;32m   1500\u001b[0m         \u001b[38;5;129;01mor\u001b[39;00m _global_forward_hooks \u001b[38;5;129;01mor\u001b[39;00m _global_forward_pre_hooks):\n\u001b[1;32m-> 1501\u001b[0m     \u001b[38;5;28;01mreturn\u001b[39;00m forward_call(\u001b[38;5;241m*\u001b[39margs, \u001b[38;5;241m*\u001b[39m\u001b[38;5;241m*\u001b[39mkwargs)\n\u001b[0;32m   1502\u001b[0m \u001b[38;5;66;03m# Do not call functions when jit is used\u001b[39;00m\n\u001b[0;32m   1503\u001b[0m full_backward_hooks, non_full_backward_hooks \u001b[38;5;241m=\u001b[39m [], []\n",
      "Cell \u001b[1;32mIn[130], line 84\u001b[0m, in \u001b[0;36mBigramLanguageModel.forward\u001b[1;34m(self, xs_inputs, targets)\u001b[0m\n\u001b[0;32m     81\u001b[0m embedded_position \u001b[38;5;241m=\u001b[39m \u001b[38;5;28mself\u001b[39m\u001b[38;5;241m.\u001b[39mposition_embedding(torch\u001b[38;5;241m.\u001b[39marange(T, device\u001b[38;5;241m=\u001b[39mdevice)) \u001b[38;5;66;03m# T, emb_neur\u001b[39;00m\n\u001b[0;32m     83\u001b[0m xs_inputs \u001b[38;5;241m=\u001b[39m embedded_tokens \u001b[38;5;241m+\u001b[39m embedded_position \u001b[38;5;66;03m# B, T, emb_neur\u001b[39;00m\n\u001b[1;32m---> 84\u001b[0m xs_inputs \u001b[38;5;241m=\u001b[39m \u001b[38;5;28;43mself\u001b[39;49m\u001b[38;5;241;43m.\u001b[39;49m\u001b[43mblocks\u001b[49m\u001b[43m(\u001b[49m\u001b[43mxs_inputs\u001b[49m\u001b[43m)\u001b[49m\n\u001b[0;32m     85\u001b[0m \u001b[38;5;66;03m# xs_inputs = self.ln(xs_inputs)\u001b[39;00m\n\u001b[0;32m     86\u001b[0m logits \u001b[38;5;241m=\u001b[39m \u001b[38;5;28mself\u001b[39m\u001b[38;5;241m.\u001b[39mll_head(xs_inputs)\n",
      "File \u001b[1;32m~\\AppData\\Local\\Programs\\Python\\Python310\\lib\\site-packages\\torch\\nn\\modules\\module.py:1501\u001b[0m, in \u001b[0;36mModule._call_impl\u001b[1;34m(self, *args, **kwargs)\u001b[0m\n\u001b[0;32m   1496\u001b[0m \u001b[38;5;66;03m# If we don't have any hooks, we want to skip the rest of the logic in\u001b[39;00m\n\u001b[0;32m   1497\u001b[0m \u001b[38;5;66;03m# this function, and just call forward.\u001b[39;00m\n\u001b[0;32m   1498\u001b[0m \u001b[38;5;28;01mif\u001b[39;00m \u001b[38;5;129;01mnot\u001b[39;00m (\u001b[38;5;28mself\u001b[39m\u001b[38;5;241m.\u001b[39m_backward_hooks \u001b[38;5;129;01mor\u001b[39;00m \u001b[38;5;28mself\u001b[39m\u001b[38;5;241m.\u001b[39m_backward_pre_hooks \u001b[38;5;129;01mor\u001b[39;00m \u001b[38;5;28mself\u001b[39m\u001b[38;5;241m.\u001b[39m_forward_hooks \u001b[38;5;129;01mor\u001b[39;00m \u001b[38;5;28mself\u001b[39m\u001b[38;5;241m.\u001b[39m_forward_pre_hooks\n\u001b[0;32m   1499\u001b[0m         \u001b[38;5;129;01mor\u001b[39;00m _global_backward_pre_hooks \u001b[38;5;129;01mor\u001b[39;00m _global_backward_hooks\n\u001b[0;32m   1500\u001b[0m         \u001b[38;5;129;01mor\u001b[39;00m _global_forward_hooks \u001b[38;5;129;01mor\u001b[39;00m _global_forward_pre_hooks):\n\u001b[1;32m-> 1501\u001b[0m     \u001b[38;5;28;01mreturn\u001b[39;00m forward_call(\u001b[38;5;241m*\u001b[39margs, \u001b[38;5;241m*\u001b[39m\u001b[38;5;241m*\u001b[39mkwargs)\n\u001b[0;32m   1502\u001b[0m \u001b[38;5;66;03m# Do not call functions when jit is used\u001b[39;00m\n\u001b[0;32m   1503\u001b[0m full_backward_hooks, non_full_backward_hooks \u001b[38;5;241m=\u001b[39m [], []\n",
      "File \u001b[1;32m~\\AppData\\Local\\Programs\\Python\\Python310\\lib\\site-packages\\torch\\nn\\modules\\container.py:217\u001b[0m, in \u001b[0;36mSequential.forward\u001b[1;34m(self, input)\u001b[0m\n\u001b[0;32m    215\u001b[0m \u001b[38;5;28;01mdef\u001b[39;00m \u001b[38;5;21mforward\u001b[39m(\u001b[38;5;28mself\u001b[39m, \u001b[38;5;28minput\u001b[39m):\n\u001b[0;32m    216\u001b[0m     \u001b[38;5;28;01mfor\u001b[39;00m module \u001b[38;5;129;01min\u001b[39;00m \u001b[38;5;28mself\u001b[39m:\n\u001b[1;32m--> 217\u001b[0m         \u001b[38;5;28minput\u001b[39m \u001b[38;5;241m=\u001b[39m \u001b[43mmodule\u001b[49m\u001b[43m(\u001b[49m\u001b[38;5;28;43minput\u001b[39;49m\u001b[43m)\u001b[49m\n\u001b[0;32m    218\u001b[0m     \u001b[38;5;28;01mreturn\u001b[39;00m \u001b[38;5;28minput\u001b[39m\n",
      "File \u001b[1;32m~\\AppData\\Local\\Programs\\Python\\Python310\\lib\\site-packages\\torch\\nn\\modules\\module.py:1501\u001b[0m, in \u001b[0;36mModule._call_impl\u001b[1;34m(self, *args, **kwargs)\u001b[0m\n\u001b[0;32m   1496\u001b[0m \u001b[38;5;66;03m# If we don't have any hooks, we want to skip the rest of the logic in\u001b[39;00m\n\u001b[0;32m   1497\u001b[0m \u001b[38;5;66;03m# this function, and just call forward.\u001b[39;00m\n\u001b[0;32m   1498\u001b[0m \u001b[38;5;28;01mif\u001b[39;00m \u001b[38;5;129;01mnot\u001b[39;00m (\u001b[38;5;28mself\u001b[39m\u001b[38;5;241m.\u001b[39m_backward_hooks \u001b[38;5;129;01mor\u001b[39;00m \u001b[38;5;28mself\u001b[39m\u001b[38;5;241m.\u001b[39m_backward_pre_hooks \u001b[38;5;129;01mor\u001b[39;00m \u001b[38;5;28mself\u001b[39m\u001b[38;5;241m.\u001b[39m_forward_hooks \u001b[38;5;129;01mor\u001b[39;00m \u001b[38;5;28mself\u001b[39m\u001b[38;5;241m.\u001b[39m_forward_pre_hooks\n\u001b[0;32m   1499\u001b[0m         \u001b[38;5;129;01mor\u001b[39;00m _global_backward_pre_hooks \u001b[38;5;129;01mor\u001b[39;00m _global_backward_hooks\n\u001b[0;32m   1500\u001b[0m         \u001b[38;5;129;01mor\u001b[39;00m _global_forward_hooks \u001b[38;5;129;01mor\u001b[39;00m _global_forward_pre_hooks):\n\u001b[1;32m-> 1501\u001b[0m     \u001b[38;5;28;01mreturn\u001b[39;00m forward_call(\u001b[38;5;241m*\u001b[39margs, \u001b[38;5;241m*\u001b[39m\u001b[38;5;241m*\u001b[39mkwargs)\n\u001b[0;32m   1502\u001b[0m \u001b[38;5;66;03m# Do not call functions when jit is used\u001b[39;00m\n\u001b[0;32m   1503\u001b[0m full_backward_hooks, non_full_backward_hooks \u001b[38;5;241m=\u001b[39m [], []\n",
      "Cell \u001b[1;32mIn[130], line 62\u001b[0m, in \u001b[0;36mBlock.forward\u001b[1;34m(self, xs)\u001b[0m\n\u001b[0;32m     58\u001b[0m \u001b[38;5;28;01mdef\u001b[39;00m \u001b[38;5;21mforward\u001b[39m(\u001b[38;5;28mself\u001b[39m, xs):\n\u001b[0;32m     59\u001b[0m     \u001b[38;5;66;03m# xs = xs + self.multi_heads(self.ln1(xs))\u001b[39;00m\n\u001b[0;32m     60\u001b[0m     \u001b[38;5;66;03m# xs = xs + self.ff(self.ln2(xs))\u001b[39;00m\n\u001b[0;32m     61\u001b[0m     xs \u001b[38;5;241m=\u001b[39m xs \u001b[38;5;241m+\u001b[39m \u001b[38;5;28mself\u001b[39m\u001b[38;5;241m.\u001b[39mmulti_heads(xs)\n\u001b[1;32m---> 62\u001b[0m     xs \u001b[38;5;241m=\u001b[39m xs \u001b[38;5;241m+\u001b[39m \u001b[38;5;28;43mself\u001b[39;49m\u001b[38;5;241;43m.\u001b[39;49m\u001b[43mff\u001b[49m\u001b[43m(\u001b[49m\u001b[43mxs\u001b[49m\u001b[43m)\u001b[49m\n\u001b[0;32m     63\u001b[0m     \u001b[38;5;28;01mreturn\u001b[39;00m xs\n",
      "File \u001b[1;32m~\\AppData\\Local\\Programs\\Python\\Python310\\lib\\site-packages\\torch\\nn\\modules\\module.py:1501\u001b[0m, in \u001b[0;36mModule._call_impl\u001b[1;34m(self, *args, **kwargs)\u001b[0m\n\u001b[0;32m   1496\u001b[0m \u001b[38;5;66;03m# If we don't have any hooks, we want to skip the rest of the logic in\u001b[39;00m\n\u001b[0;32m   1497\u001b[0m \u001b[38;5;66;03m# this function, and just call forward.\u001b[39;00m\n\u001b[0;32m   1498\u001b[0m \u001b[38;5;28;01mif\u001b[39;00m \u001b[38;5;129;01mnot\u001b[39;00m (\u001b[38;5;28mself\u001b[39m\u001b[38;5;241m.\u001b[39m_backward_hooks \u001b[38;5;129;01mor\u001b[39;00m \u001b[38;5;28mself\u001b[39m\u001b[38;5;241m.\u001b[39m_backward_pre_hooks \u001b[38;5;129;01mor\u001b[39;00m \u001b[38;5;28mself\u001b[39m\u001b[38;5;241m.\u001b[39m_forward_hooks \u001b[38;5;129;01mor\u001b[39;00m \u001b[38;5;28mself\u001b[39m\u001b[38;5;241m.\u001b[39m_forward_pre_hooks\n\u001b[0;32m   1499\u001b[0m         \u001b[38;5;129;01mor\u001b[39;00m _global_backward_pre_hooks \u001b[38;5;129;01mor\u001b[39;00m _global_backward_hooks\n\u001b[0;32m   1500\u001b[0m         \u001b[38;5;129;01mor\u001b[39;00m _global_forward_hooks \u001b[38;5;129;01mor\u001b[39;00m _global_forward_pre_hooks):\n\u001b[1;32m-> 1501\u001b[0m     \u001b[38;5;28;01mreturn\u001b[39;00m forward_call(\u001b[38;5;241m*\u001b[39margs, \u001b[38;5;241m*\u001b[39m\u001b[38;5;241m*\u001b[39mkwargs)\n\u001b[0;32m   1502\u001b[0m \u001b[38;5;66;03m# Do not call functions when jit is used\u001b[39;00m\n\u001b[0;32m   1503\u001b[0m full_backward_hooks, non_full_backward_hooks \u001b[38;5;241m=\u001b[39m [], []\n",
      "Cell \u001b[1;32mIn[130], line 47\u001b[0m, in \u001b[0;36mFeedForward.forward\u001b[1;34m(self, xs)\u001b[0m\n\u001b[0;32m     46\u001b[0m \u001b[38;5;28;01mdef\u001b[39;00m \u001b[38;5;21mforward\u001b[39m(\u001b[38;5;28mself\u001b[39m, xs):\n\u001b[1;32m---> 47\u001b[0m     \u001b[38;5;28;01mreturn\u001b[39;00m \u001b[38;5;28;43mself\u001b[39;49m\u001b[38;5;241;43m.\u001b[39;49m\u001b[43mnet\u001b[49m\u001b[43m(\u001b[49m\u001b[43mxs\u001b[49m\u001b[43m)\u001b[49m\n",
      "File \u001b[1;32m~\\AppData\\Local\\Programs\\Python\\Python310\\lib\\site-packages\\torch\\nn\\modules\\module.py:1501\u001b[0m, in \u001b[0;36mModule._call_impl\u001b[1;34m(self, *args, **kwargs)\u001b[0m\n\u001b[0;32m   1496\u001b[0m \u001b[38;5;66;03m# If we don't have any hooks, we want to skip the rest of the logic in\u001b[39;00m\n\u001b[0;32m   1497\u001b[0m \u001b[38;5;66;03m# this function, and just call forward.\u001b[39;00m\n\u001b[0;32m   1498\u001b[0m \u001b[38;5;28;01mif\u001b[39;00m \u001b[38;5;129;01mnot\u001b[39;00m (\u001b[38;5;28mself\u001b[39m\u001b[38;5;241m.\u001b[39m_backward_hooks \u001b[38;5;129;01mor\u001b[39;00m \u001b[38;5;28mself\u001b[39m\u001b[38;5;241m.\u001b[39m_backward_pre_hooks \u001b[38;5;129;01mor\u001b[39;00m \u001b[38;5;28mself\u001b[39m\u001b[38;5;241m.\u001b[39m_forward_hooks \u001b[38;5;129;01mor\u001b[39;00m \u001b[38;5;28mself\u001b[39m\u001b[38;5;241m.\u001b[39m_forward_pre_hooks\n\u001b[0;32m   1499\u001b[0m         \u001b[38;5;129;01mor\u001b[39;00m _global_backward_pre_hooks \u001b[38;5;129;01mor\u001b[39;00m _global_backward_hooks\n\u001b[0;32m   1500\u001b[0m         \u001b[38;5;129;01mor\u001b[39;00m _global_forward_hooks \u001b[38;5;129;01mor\u001b[39;00m _global_forward_pre_hooks):\n\u001b[1;32m-> 1501\u001b[0m     \u001b[38;5;28;01mreturn\u001b[39;00m forward_call(\u001b[38;5;241m*\u001b[39margs, \u001b[38;5;241m*\u001b[39m\u001b[38;5;241m*\u001b[39mkwargs)\n\u001b[0;32m   1502\u001b[0m \u001b[38;5;66;03m# Do not call functions when jit is used\u001b[39;00m\n\u001b[0;32m   1503\u001b[0m full_backward_hooks, non_full_backward_hooks \u001b[38;5;241m=\u001b[39m [], []\n",
      "File \u001b[1;32m~\\AppData\\Local\\Programs\\Python\\Python310\\lib\\site-packages\\torch\\nn\\modules\\container.py:217\u001b[0m, in \u001b[0;36mSequential.forward\u001b[1;34m(self, input)\u001b[0m\n\u001b[0;32m    215\u001b[0m \u001b[38;5;28;01mdef\u001b[39;00m \u001b[38;5;21mforward\u001b[39m(\u001b[38;5;28mself\u001b[39m, \u001b[38;5;28minput\u001b[39m):\n\u001b[0;32m    216\u001b[0m     \u001b[38;5;28;01mfor\u001b[39;00m module \u001b[38;5;129;01min\u001b[39;00m \u001b[38;5;28mself\u001b[39m:\n\u001b[1;32m--> 217\u001b[0m         \u001b[38;5;28minput\u001b[39m \u001b[38;5;241m=\u001b[39m \u001b[43mmodule\u001b[49m\u001b[43m(\u001b[49m\u001b[38;5;28;43minput\u001b[39;49m\u001b[43m)\u001b[49m\n\u001b[0;32m    218\u001b[0m     \u001b[38;5;28;01mreturn\u001b[39;00m \u001b[38;5;28minput\u001b[39m\n",
      "File \u001b[1;32m~\\AppData\\Local\\Programs\\Python\\Python310\\lib\\site-packages\\torch\\nn\\modules\\module.py:1501\u001b[0m, in \u001b[0;36mModule._call_impl\u001b[1;34m(self, *args, **kwargs)\u001b[0m\n\u001b[0;32m   1496\u001b[0m \u001b[38;5;66;03m# If we don't have any hooks, we want to skip the rest of the logic in\u001b[39;00m\n\u001b[0;32m   1497\u001b[0m \u001b[38;5;66;03m# this function, and just call forward.\u001b[39;00m\n\u001b[0;32m   1498\u001b[0m \u001b[38;5;28;01mif\u001b[39;00m \u001b[38;5;129;01mnot\u001b[39;00m (\u001b[38;5;28mself\u001b[39m\u001b[38;5;241m.\u001b[39m_backward_hooks \u001b[38;5;129;01mor\u001b[39;00m \u001b[38;5;28mself\u001b[39m\u001b[38;5;241m.\u001b[39m_backward_pre_hooks \u001b[38;5;129;01mor\u001b[39;00m \u001b[38;5;28mself\u001b[39m\u001b[38;5;241m.\u001b[39m_forward_hooks \u001b[38;5;129;01mor\u001b[39;00m \u001b[38;5;28mself\u001b[39m\u001b[38;5;241m.\u001b[39m_forward_pre_hooks\n\u001b[0;32m   1499\u001b[0m         \u001b[38;5;129;01mor\u001b[39;00m _global_backward_pre_hooks \u001b[38;5;129;01mor\u001b[39;00m _global_backward_hooks\n\u001b[0;32m   1500\u001b[0m         \u001b[38;5;129;01mor\u001b[39;00m _global_forward_hooks \u001b[38;5;129;01mor\u001b[39;00m _global_forward_pre_hooks):\n\u001b[1;32m-> 1501\u001b[0m     \u001b[38;5;28;01mreturn\u001b[39;00m forward_call(\u001b[38;5;241m*\u001b[39margs, \u001b[38;5;241m*\u001b[39m\u001b[38;5;241m*\u001b[39mkwargs)\n\u001b[0;32m   1502\u001b[0m \u001b[38;5;66;03m# Do not call functions when jit is used\u001b[39;00m\n\u001b[0;32m   1503\u001b[0m full_backward_hooks, non_full_backward_hooks \u001b[38;5;241m=\u001b[39m [], []\n",
      "File \u001b[1;32m~\\AppData\\Local\\Programs\\Python\\Python310\\lib\\site-packages\\torch\\nn\\modules\\linear.py:114\u001b[0m, in \u001b[0;36mLinear.forward\u001b[1;34m(self, input)\u001b[0m\n\u001b[0;32m    113\u001b[0m \u001b[38;5;28;01mdef\u001b[39;00m \u001b[38;5;21mforward\u001b[39m(\u001b[38;5;28mself\u001b[39m, \u001b[38;5;28minput\u001b[39m: Tensor) \u001b[38;5;241m-\u001b[39m\u001b[38;5;241m>\u001b[39m Tensor:\n\u001b[1;32m--> 114\u001b[0m     \u001b[38;5;28;01mreturn\u001b[39;00m \u001b[43mF\u001b[49m\u001b[38;5;241;43m.\u001b[39;49m\u001b[43mlinear\u001b[49m\u001b[43m(\u001b[49m\u001b[38;5;28;43minput\u001b[39;49m\u001b[43m,\u001b[49m\u001b[43m \u001b[49m\u001b[38;5;28;43mself\u001b[39;49m\u001b[38;5;241;43m.\u001b[39;49m\u001b[43mweight\u001b[49m\u001b[43m,\u001b[49m\u001b[43m \u001b[49m\u001b[38;5;28;43mself\u001b[39;49m\u001b[38;5;241;43m.\u001b[39;49m\u001b[43mbias\u001b[49m\u001b[43m)\u001b[49m\n",
      "\u001b[1;31mKeyboardInterrupt\u001b[0m: "
     ]
    }
   ],
   "source": [
    "for epoch in range(epochs):\n",
    "    xs, ys = get_batch(train_data)\n",
    "    logits, loss = m(xs, ys)\n",
    "    optmizer.zero_grad(set_to_none=True)\n",
    "    loss.backward()\n",
    "    optmizer.step()\n",
    "    # if epoch %  == 0:\n",
    "    print(epoch, '/', epochs, \"loss:\")"
   ]
  },
  {
   "cell_type": "code",
   "execution_count": null,
   "id": "17513184-1385-4412-aafc-d8184d5dca4f",
   "metadata": {},
   "outputs": [],
   "source": [
    "calculate_loss(val_data)"
   ]
  },
  {
   "cell_type": "code",
   "execution_count": 90,
   "id": "9048e434-b3db-491e-ab5b-127045ed0dd5",
   "metadata": {},
   "outputs": [],
   "source": [
    "# print(decode(m.generate(torch.zeros(1, 1, dtype=torch.int32, device=device), 500)[0].tolist()))"
   ]
  },
  {
   "cell_type": "code",
   "execution_count": 14,
   "id": "f882d242-8554-4ac5-a60b-a5d84dabac08",
   "metadata": {},
   "outputs": [],
   "source": [
    "# (2.2899)\n",
    "# tensor(2.1783) ln\n",
    "# tensor(2.0981)"
   ]
  },
  {
   "cell_type": "code",
   "execution_count": null,
   "id": "6b40e814-c29d-417f-83d9-dafe83dea834",
   "metadata": {},
   "outputs": [],
   "source": []
  }
 ],
 "metadata": {
  "kernelspec": {
   "display_name": "Python 3 (ipykernel)",
   "language": "python",
   "name": "python3"
  },
  "language_info": {
   "codemirror_mode": {
    "name": "ipython",
    "version": 3
   },
   "file_extension": ".py",
   "mimetype": "text/x-python",
   "name": "python",
   "nbconvert_exporter": "python",
   "pygments_lexer": "ipython3",
   "version": "3.10.11"
  }
 },
 "nbformat": 4,
 "nbformat_minor": 5
}
