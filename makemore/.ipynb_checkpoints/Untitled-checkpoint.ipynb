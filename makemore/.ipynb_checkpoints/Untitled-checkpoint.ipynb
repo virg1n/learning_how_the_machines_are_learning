{
 "cells": [
  {
   "cell_type": "code",
   "execution_count": 7,
   "id": "bca9b5ac-60c0-4cb1-bc6b-89a35fbfa013",
   "metadata": {},
   "outputs": [
    {
     "name": "stdout",
     "output_type": "stream",
     "text": [
      "emma\n"
     ]
    }
   ],
   "source": [
    "names = open('names.txt').read().split('\\n')\n",
    "chars = {'.':0,}"
   ]
  },
  {
   "cell_type": "code",
   "execution_count": 8,
   "id": "57f84dac-eabb-4c81-ad0d-b5677365aa84",
   "metadata": {},
   "outputs": [
    {
     "ename": "TypeError",
     "evalue": "'list' object cannot be interpreted as an integer",
     "output_type": "error",
     "traceback": [
      "\u001b[1;31m---------------------------------------------------------------------------\u001b[0m",
      "\u001b[1;31mTypeError\u001b[0m                                 Traceback (most recent call last)",
      "Cell \u001b[1;32mIn[8], line 2\u001b[0m\n\u001b[0;32m      1\u001b[0m set_chars \u001b[38;5;241m=\u001b[39m \u001b[38;5;28mset\u001b[39m()\n\u001b[1;32m----> 2\u001b[0m \u001b[38;5;28;01mfor\u001b[39;00m i \u001b[38;5;129;01min\u001b[39;00m \u001b[38;5;28;43mrange\u001b[39;49m\u001b[43m(\u001b[49m\u001b[43mnames\u001b[49m\u001b[43m)\u001b[49m:\n\u001b[0;32m      3\u001b[0m     \u001b[38;5;28;01mfor\u001b[39;00m i \u001b[38;5;129;01min\u001b[39;00m \u001b[38;5;28mstr\u001b[39m(i):\n\u001b[0;32m      4\u001b[0m         set_chars\u001b[38;5;241m.\u001b[39madd(j)\n",
      "\u001b[1;31mTypeError\u001b[0m: 'list' object cannot be interpreted as an integer"
     ]
    }
   ],
   "source": [
    "set_chars = set()\n",
    "for i in names:\n",
    "    for i in str(i):\n",
    "        set_chars.add(j)"
   ]
  },
  {
   "cell_type": "code",
   "execution_count": null,
   "id": "aedf4a46-b74b-4c6c-95ce-3f66b4c903f9",
   "metadata": {},
   "outputs": [],
   "source": []
  }
 ],
 "metadata": {
  "kernelspec": {
   "display_name": "Python 3 (ipykernel)",
   "language": "python",
   "name": "python3"
  },
  "language_info": {
   "codemirror_mode": {
    "name": "ipython",
    "version": 3
   },
   "file_extension": ".py",
   "mimetype": "text/x-python",
   "name": "python",
   "nbconvert_exporter": "python",
   "pygments_lexer": "ipython3",
   "version": "3.10.11"
  }
 },
 "nbformat": 4,
 "nbformat_minor": 5
}
